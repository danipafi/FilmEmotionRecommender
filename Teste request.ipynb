{
 "cells": [
  {
   "cell_type": "code",
   "execution_count": 4,
   "id": "bf685326",
   "metadata": {},
   "outputs": [
    {
     "name": "stdout",
     "output_type": "stream",
     "text": [
      "Pôster não encontrado.\n"
     ]
    }
   ],
   "source": [
    "import requests\n",
    "from bs4 import BeautifulSoup\n",
    "from PIL import Image\n",
    "from io import BytesIO\n",
    "\n",
    "# Função para extrair o URL do pôster da página de fotos\n",
    "def get_movie_poster_url(movie_id):\n",
    "    url = f\"https://www.rottentomatoes.com/m/{movie_id}#photos\"\n",
    "    headers = {\n",
    "        \"User-Agent\": \"Mozilla/5.0 (Windows NT 10.0; Win64; x64) AppleWebKit/537.36 (KHTML, like Gecko) Chrome/91.0.4472.124 Safari/537.36\"\n",
    "    }\n",
    "    response = requests.get(url, headers=headers)\n",
    "    if response.status_code != 200:\n",
    "        return None\n",
    "    \n",
    "    soup = BeautifulSoup(response.text, 'html.parser')\n",
    "    \n",
    "    # Procura pela tag de imagem do pôster\n",
    "    poster_img = soup.find('img', {'class': 'posterImage'})\n",
    "    if poster_img and 'src' in poster_img.attrs:\n",
    "        return poster_img['src']\n",
    "    return None\n",
    "\n",
    "# Função para testar o request e exibir a imagem\n",
    "def test_poster_request(movie_id):\n",
    "    poster_url = get_movie_poster_url(movie_id)\n",
    "    if poster_url:\n",
    "        print(f\"URL do pôster: {poster_url}\")\n",
    "        response = requests.get(poster_url)\n",
    "        if response.status_code == 200:\n",
    "            img = Image.open(BytesIO(response.content))\n",
    "            img.show()  # Exibir a imagem\n",
    "        else:\n",
    "            print(f\"Erro ao carregar a imagem. Status code: {response.status_code}\")\n",
    "    else:\n",
    "        print(\"Pôster não encontrado.\")\n",
    "\n",
    "# Testar com um movie_id específico\n",
    "movie_id = \"the_tree_of_life_2011\"  # Substitua pelo movie_id que você quer testar\n",
    "test_poster_request(movie_id)"
   ]
  },
  {
   "cell_type": "code",
   "execution_count": null,
   "id": "de0fcdf3",
   "metadata": {},
   "outputs": [],
   "source": []
  }
 ],
 "metadata": {
  "kernelspec": {
   "display_name": "Python 3 (ipykernel)",
   "language": "python",
   "name": "python3"
  },
  "language_info": {
   "codemirror_mode": {
    "name": "ipython",
    "version": 3
   },
   "file_extension": ".py",
   "mimetype": "text/x-python",
   "name": "python",
   "nbconvert_exporter": "python",
   "pygments_lexer": "ipython3",
   "version": "3.11.5"
  }
 },
 "nbformat": 4,
 "nbformat_minor": 5
}
