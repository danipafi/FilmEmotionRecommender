{
 "cells": [
  {
   "cell_type": "code",
   "execution_count": 1,
   "id": "b3df4484",
   "metadata": {},
   "outputs": [],
   "source": [
    "import pandas as pd\n",
    "from scipy.special import softmax\n",
    "from transformers import AutoTokenizer, AutoModelForSequenceClassification\n",
    "import matplotlib.pyplot as plt\n",
    "\n",
    "\n",
    "pd.set_option('display.max_colwidth', None)\n",
    "\n",
    "# Load Rotten Tomatoes reviews\n",
    "reviews = pd.read_csv('/Users/danielebelmiro/Data_Analytics_Bootcamp/Rotten/clean_reviews.csv')"
   ]
  },
  {
   "cell_type": "code",
   "execution_count": 2,
   "id": "dc18f71a",
   "metadata": {},
   "outputs": [
    {
     "data": {
      "text/plain": [
       "id                                                                                                                   lina_from_lima\n",
       "title                                                                                                                Lina From Lima\n",
       "reviewId                                                                                                                    2638012\n",
       "creationDate                                                                                                             2019-10-22\n",
       "criticName                                                                                                         Josefina Sartora\n",
       "isTopCritic                                                                                                                   False\n",
       "reviewState                                                                                                                   fresh\n",
       "publicatioName                                                                                                       Otroscines.com\n",
       "reviewText           A great, creative, and hilarious idea... we leave the film singing, despite the pain. [Full Review in Spanish]\n",
       "scoreSentiment                                                                                                             POSITIVE\n",
       "cleanedReviewText             A great creative and hilarious idea we leave the film singing despite the pain Full Review in Spanish\n",
       "Name: 439863, dtype: object"
      ]
     },
     "execution_count": 2,
     "metadata": {},
     "output_type": "execute_result"
    }
   ],
   "source": [
    "reviews.iloc[439863]"
   ]
  },
  {
   "cell_type": "code",
   "execution_count": 3,
   "id": "c2a3f0f6",
   "metadata": {},
   "outputs": [
    {
     "name": "stdout",
     "output_type": "stream",
     "text": [
      "                                                                       id  \\\n",
      "439863                                                     lina_from_lima   \n",
      "1310710  the_fog_of_war_eleven_lessons_from_the_life_of_robert_s_mcnamara   \n",
      "1099553                                                  1105979-brothers   \n",
      "63988                                                      secret_of_nimh   \n",
      "493706                                      the_kindergarten_teacher_2018   \n",
      "\n",
      "                            title  reviewId creationDate        criticName  \\\n",
      "439863             Lina From Lima   2638012   2019-10-22  Josefina Sartora   \n",
      "1310710            The Fog of War   1242001   2004-01-23       Roger Ebert   \n",
      "1099553              The Brothers    199028   2001-03-22        Dave White   \n",
      "63988          The Secret of NIMH    744482   2002-07-26  Jeffrey Westhoff   \n",
      "493706   The Kindergarten Teacher   2518933   2018-10-15   Betty Jo Tucker   \n",
      "\n",
      "         isTopCritic reviewState                       publicatioName  \\\n",
      "439863         False       fresh                       Otroscines.com   \n",
      "1310710         True       fresh                    Chicago Sun-Times   \n",
      "1099553        False      rotten                                IFilm   \n",
      "63988          False       fresh  Northwest Herald (Crystal Lake, IL)   \n",
      "493706         False       fresh               ReelTalk Movie Reviews   \n",
      "\n",
      "                                                                                                                                                                            reviewText  \\\n",
      "439863                                                                  A great, creative, and hilarious idea... we leave the film singing, despite the pain. [Full Review in Spanish]   \n",
      "1310710                                                                                 The effect of The Fog of War is to impress upon us the frailty and uncertainty of our leaders.   \n",
      "1099553                                                                                      It seems as though the entire budget of this movie was spent on expensive set decoration.   \n",
      "63988                                                                                It took years before Disney would match the quality of this first film from expatriate Don Bluth.   \n",
      "493706   Maggie Gyllenhaal and Parker Sevak's interactions come across seamlessly here. It's fascinating to watch them together, regardless of how questionable the situations become.   \n",
      "\n",
      "        scoreSentiment  \\\n",
      "439863        POSITIVE   \n",
      "1310710       POSITIVE   \n",
      "1099553       NEGATIVE   \n",
      "63988         POSITIVE   \n",
      "493706        POSITIVE   \n",
      "\n",
      "                                                                                                                                                                cleanedReviewText  \n",
      "439863                                                                      A great creative and hilarious idea we leave the film singing despite the pain Full Review in Spanish  \n",
      "1310710                                                                             The effect of The Fog of War is to impress upon us the frailty and uncertainty of our leaders  \n",
      "1099553                                                                                  It seems as though the entire budget of this movie was spent on expensive set decoration  \n",
      "63988                                                                            It took years before Disney would match the quality of this first film from expatriate Don Bluth  \n",
      "493706   Maggie Gyllenhaal and Parker Sevaks interactions come across seamlessly here Its fascinating to watch them together regardless of how questionable the situations become  \n"
     ]
    }
   ],
   "source": [
    "# Select a random sample of 100 reviews\n",
    "sample_reviews = reviews.sample(n=100, random_state=42)\n",
    "\n",
    "print(sample_reviews.head())"
   ]
  },
  {
   "cell_type": "code",
   "execution_count": 4,
   "id": "2a9b8511",
   "metadata": {},
   "outputs": [
    {
     "name": "stderr",
     "output_type": "stream",
     "text": [
      "/Users/danielebelmiro/anaconda3/lib/python3.11/site-packages/transformers/utils/generic.py:260: FutureWarning: `torch.utils._pytree._register_pytree_node` is deprecated. Please use `torch.utils._pytree.register_pytree_node` instead.\n",
      "  torch.utils._pytree._register_pytree_node(\n"
     ]
    }
   ],
   "source": [
    "MODEL = \"j-hartmann/emotion-english-distilroberta-base\"\n",
    "tokenizer = AutoTokenizer.from_pretrained(MODEL)\n",
    "model = AutoModelForSequenceClassification.from_pretrained(MODEL)"
   ]
  },
  {
   "cell_type": "code",
   "execution_count": 5,
   "id": "36709f4d",
   "metadata": {},
   "outputs": [],
   "source": [
    "def mooder(text):\n",
    "    encoded_text = tokenizer(text, return_tensors=\"pt\")\n",
    "    output = model(**encoded_text)\n",
    "    scores = output.logits[0].detach().numpy()\n",
    "    probabilities = softmax(scores)\n",
    "    sc_label = {\n",
    "        \"anger\": probabilities[0],\n",
    "        \"disgust\": probabilities[1],\n",
    "        \"fear\": probabilities[2],\n",
    "        \"joy\": probabilities[3],\n",
    "        \"neutral\": probabilities[4], \n",
    "        \"sadness\": probabilities[5],\n",
    "        \"surprise\": probabilities[6]\n",
    "    }\n",
    "    sorted_scores = sorted(sc_label.items(), key=lambda item: item[1], reverse=True)\n",
    "    \n",
    "    total_score = sum(score for mood, score in sorted_scores if mood != \"neutral\")\n",
    "    \n",
    "    top_moods = []\n",
    "    for mood, score in sorted_scores:\n",
    "        if mood != \"neutral\":\n",
    "            percentage = (score / total_score) * 100\n",
    "            top_moods.append((mood, percentage))\n",
    "        if len(top_moods) == 3:\n",
    "            break\n",
    "    \n",
    "    return top_moods"
   ]
  },
  {
   "cell_type": "code",
   "execution_count": 6,
   "id": "63a2092e",
   "metadata": {},
   "outputs": [],
   "source": [
    "sample_reviews['predicted_moods'] = sample_reviews['cleanedReviewText'].apply(mooder)"
   ]
  },
  {
   "cell_type": "code",
   "execution_count": 7,
   "id": "4acf4772",
   "metadata": {},
   "outputs": [
    {
     "data": {
      "text/html": [
       "<div>\n",
       "<style scoped>\n",
       "    .dataframe tbody tr th:only-of-type {\n",
       "        vertical-align: middle;\n",
       "    }\n",
       "\n",
       "    .dataframe tbody tr th {\n",
       "        vertical-align: top;\n",
       "    }\n",
       "\n",
       "    .dataframe thead th {\n",
       "        text-align: right;\n",
       "    }\n",
       "</style>\n",
       "<table border=\"1\" class=\"dataframe\">\n",
       "  <thead>\n",
       "    <tr style=\"text-align: right;\">\n",
       "      <th></th>\n",
       "      <th>cleanedReviewText</th>\n",
       "      <th>predicted_moods</th>\n",
       "    </tr>\n",
       "  </thead>\n",
       "  <tbody>\n",
       "    <tr>\n",
       "      <th>439863</th>\n",
       "      <td>A great creative and hilarious idea we leave the film singing despite the pain Full Review in Spanish</td>\n",
       "      <td>[(joy, 97.07233129577308), (sadness, 1.42506073966625), (surprise, 0.8803388688432031)]</td>\n",
       "    </tr>\n",
       "    <tr>\n",
       "      <th>1310710</th>\n",
       "      <td>The effect of The Fog of War is to impress upon us the frailty and uncertainty of our leaders</td>\n",
       "      <td>[(fear, 84.50910415816418), (sadness, 9.686666716014798), (disgust, 3.322816927150803)]</td>\n",
       "    </tr>\n",
       "    <tr>\n",
       "      <th>1099553</th>\n",
       "      <td>It seems as though the entire budget of this movie was spent on expensive set decoration</td>\n",
       "      <td>[(surprise, 51.95420358392431), (disgust, 21.123198065524054), (sadness, 14.791352294288874)]</td>\n",
       "    </tr>\n",
       "    <tr>\n",
       "      <th>63988</th>\n",
       "      <td>It took years before Disney would match the quality of this first film from expatriate Don Bluth</td>\n",
       "      <td>[(surprise, 77.03551311463444), (joy, 7.633716402265603), (sadness, 6.0054020900350755)]</td>\n",
       "    </tr>\n",
       "    <tr>\n",
       "      <th>493706</th>\n",
       "      <td>Maggie Gyllenhaal and Parker Sevaks interactions come across seamlessly here Its fascinating to watch them together regardless of how questionable the situations become</td>\n",
       "      <td>[(joy, 84.77758113030191), (surprise, 11.10911492918151), (fear, 1.7762611921247469)]</td>\n",
       "    </tr>\n",
       "    <tr>\n",
       "      <th>...</th>\n",
       "      <td>...</td>\n",
       "      <td>...</td>\n",
       "    </tr>\n",
       "    <tr>\n",
       "      <th>811338</th>\n",
       "      <td>WilsonStiller comedy revamps a 1970s TV show for a few laughs but just a few</td>\n",
       "      <td>[(joy, 63.47193644405017), (sadness, 21.89807218222032), (surprise, 10.348920528847875)]</td>\n",
       "    </tr>\n",
       "    <tr>\n",
       "      <th>1231422</th>\n",
       "      <td>Atomic Blonde has a short fuse and packs a big bang</td>\n",
       "      <td>[(surprise, 74.8906547634493), (anger, 11.86721612509383), (joy, 7.327472586070667)]</td>\n",
       "    </tr>\n",
       "    <tr>\n",
       "      <th>1031301</th>\n",
       "      <td>Its a hard film to recommend but it works on its own gutsily perturbing terms</td>\n",
       "      <td>[(disgust, 60.792398380506626), (anger, 26.80088945053748), (sadness, 8.016300928121979)]</td>\n",
       "    </tr>\n",
       "    <tr>\n",
       "      <th>1163994</th>\n",
       "      <td>A study guide for celebrity bodyguards</td>\n",
       "      <td>[(fear, 35.38293815687476), (surprise, 27.364640656888756), (disgust, 16.327913021690215)]</td>\n",
       "    </tr>\n",
       "    <tr>\n",
       "      <th>1247376</th>\n",
       "      <td>Never less than mesmerizing even when youre not exactly sure what exactly Greenaway is trying to say</td>\n",
       "      <td>[(joy, 78.21258062115223), (surprise, 11.228907979428346), (fear, 6.778559734716866)]</td>\n",
       "    </tr>\n",
       "  </tbody>\n",
       "</table>\n",
       "<p>100 rows × 2 columns</p>\n",
       "</div>"
      ],
      "text/plain": [
       "                                                                                                                                                                cleanedReviewText  \\\n",
       "439863                                                                      A great creative and hilarious idea we leave the film singing despite the pain Full Review in Spanish   \n",
       "1310710                                                                             The effect of The Fog of War is to impress upon us the frailty and uncertainty of our leaders   \n",
       "1099553                                                                                  It seems as though the entire budget of this movie was spent on expensive set decoration   \n",
       "63988                                                                            It took years before Disney would match the quality of this first film from expatriate Don Bluth   \n",
       "493706   Maggie Gyllenhaal and Parker Sevaks interactions come across seamlessly here Its fascinating to watch them together regardless of how questionable the situations become   \n",
       "...                                                                                                                                                                           ...   \n",
       "811338                                                                                               WilsonStiller comedy revamps a 1970s TV show for a few laughs but just a few   \n",
       "1231422                                                                                                                       Atomic Blonde has a short fuse and packs a big bang   \n",
       "1031301                                                                                             Its a hard film to recommend but it works on its own gutsily perturbing terms   \n",
       "1163994                                                                                                                                    A study guide for celebrity bodyguards   \n",
       "1247376                                                                      Never less than mesmerizing even when youre not exactly sure what exactly Greenaway is trying to say   \n",
       "\n",
       "                                                                                       predicted_moods  \n",
       "439863         [(joy, 97.07233129577308), (sadness, 1.42506073966625), (surprise, 0.8803388688432031)]  \n",
       "1310710        [(fear, 84.50910415816418), (sadness, 9.686666716014798), (disgust, 3.322816927150803)]  \n",
       "1099553  [(surprise, 51.95420358392431), (disgust, 21.123198065524054), (sadness, 14.791352294288874)]  \n",
       "63988         [(surprise, 77.03551311463444), (joy, 7.633716402265603), (sadness, 6.0054020900350755)]  \n",
       "493706           [(joy, 84.77758113030191), (surprise, 11.10911492918151), (fear, 1.7762611921247469)]  \n",
       "...                                                                                                ...  \n",
       "811338        [(joy, 63.47193644405017), (sadness, 21.89807218222032), (surprise, 10.348920528847875)]  \n",
       "1231422           [(surprise, 74.8906547634493), (anger, 11.86721612509383), (joy, 7.327472586070667)]  \n",
       "1031301      [(disgust, 60.792398380506626), (anger, 26.80088945053748), (sadness, 8.016300928121979)]  \n",
       "1163994     [(fear, 35.38293815687476), (surprise, 27.364640656888756), (disgust, 16.327913021690215)]  \n",
       "1247376          [(joy, 78.21258062115223), (surprise, 11.228907979428346), (fear, 6.778559734716866)]  \n",
       "\n",
       "[100 rows x 2 columns]"
      ]
     },
     "execution_count": 7,
     "metadata": {},
     "output_type": "execute_result"
    }
   ],
   "source": [
    "sample_reviews[['cleanedReviewText', 'predicted_moods']]"
   ]
  },
  {
   "cell_type": "code",
   "execution_count": 8,
   "id": "d46444b3",
   "metadata": {},
   "outputs": [
    {
     "name": "stdout",
     "output_type": "stream",
     "text": [
      "sadness     60\n",
      "joy         59\n",
      "surprise    57\n",
      "disgust     56\n",
      "fear        36\n",
      "anger       32\n",
      "Name: count, dtype: int64\n"
     ]
    },
    {
     "data": {
      "image/png": "[encoded data removed]",
      "text/plain": [
       "<Figure size 1200x600 with 1 Axes>"
      ]
     },
     "metadata": {},
     "output_type": "display_data"
    }
   ],
   "source": [
    "# Create a list of all predicted emotions\n",
    "all_predicted_moods_sample = [mood for moods in sample_reviews['predicted_moods'] for mood, _ in moods]\n",
    "\n",
    "# Count the predicted emotions\n",
    "emotion_counts_sample = pd.Series(all_predicted_moods_sample).value_counts()\n",
    "print(emotion_counts_sample)\n",
    "\n",
    "# Plot the counts of predicted emotions\n",
    "plt.figure(figsize=(12, 6))\n",
    "emotion_counts_sample.plot(kind='bar', color='skyblue')\n",
    "plt.xlabel('Emotion')\n",
    "plt.ylabel('Count')\n",
    "plt.title('Distribution of Predicted Emotions in Reviews (Sample of 100)')\n",
    "plt.show()"
   ]
  },
  {
   "cell_type": "code",
   "execution_count": 9,
   "id": "02d89cd1",
   "metadata": {},
   "outputs": [
    {
     "data": {
      "text/plain": [
       "array(['Lina From Lima', 'The Fog of War', 'The Brothers',\n",
       "       'The Secret of NIMH', 'The Kindergarten Teacher',\n",
       "       'Did You Hear About the Morgans?', 'Outside In',\n",
       "       'Bardo, False Chronicle of a Handful of Truths',\n",
       "       'We Can Be Heroes', 'The Last Temptation of Christ',\n",
       "       'Christmas With the Kranks', 'A League of Their Own', 'Master',\n",
       "       'Bone Tomahawk', 'Twin Falls Idaho', 'Michael', 'The DUFF',\n",
       "       'Let Me In', 'The Thin Man', 'The Black Dahlia', 'The Mummy',\n",
       "       'Vision: From the Life of Hildegard von Bingen', 'Flee',\n",
       "       'BlacKkKlansman', 'Terms of Endearment', 'Golden Door', 'Pankh',\n",
       "       'The Unbearable Weight of Massive Talent', 'Red Eye',\n",
       "       'Ali: Fear Eats the Soul', 'Analyze That', 'Enter the Void',\n",
       "       'Chef Flynn', 'A Quiet Place', 'The Pursuit of Happyness',\n",
       "       'London Kills Me', 'Mannequin', 'The Violin', 'Sparkle',\n",
       "       'My Bloody Valentine', 'Trouble the Water', 'In the Mood for Love',\n",
       "       \"Yocho 'Foreboding'\", 'The Estate', 'The House Bunny', 'Paulie',\n",
       "       'Fierce People', 'The Last Stand', 'The Natural',\n",
       "       'Precious: Based on the Novel \"Push\" by Sapphire', 'Brooklyn',\n",
       "       'Late September', 'Rojo', 'Dragonfly', 'August: Osage County',\n",
       "       'The Forever Purge', 'The Assistant', 'Drillbit Taylor',\n",
       "       'Team America: World Police', 'Hall Pass', 'Othello', 'Tetris',\n",
       "       'Take Me Home Tonight', 'The Raven', 'Supercool', 'Cloud Atlas',\n",
       "       'The Departed', 'Tabloid', 'The Possession', 'A Good Person',\n",
       "       'The Clockmaker', 'Trophy', 'The Lake House',\n",
       "       'Kind Hearts and Coronets', 'The Lodge',\n",
       "       'Tremors: A Cold Day in Hell', 'Chloe in the Afternoon',\n",
       "       'Armadillo', 'The Gift', \"Disney's A Christmas Carol\",\n",
       "       'Malevolent', 'Undefeated', 'The Campaign', 'Defender',\n",
       "       'In Darkness', 'Monsters', 'When a Stranger Calls',\n",
       "       'Space Jam: A New Legacy', 'Baby Mama',\n",
       "       'Wall Street: Money Never Sleeps', 'Demonic', 'Unfriended',\n",
       "       'Maudie', 'Sherlock Holmes', 'Arthur Christmas', 'Starsky & Hutch',\n",
       "       'Atomic Blonde', 'Silent Night', 'Chapter 27', 'The Pillow Book'],\n",
       "      dtype=object)"
      ]
     },
     "execution_count": 9,
     "metadata": {},
     "output_type": "execute_result"
    }
   ],
   "source": [
    "sample_reviews['title'].unique()"
   ]
  },
  {
   "cell_type": "code",
   "execution_count": 10,
   "id": "9e3cfdbd",
   "metadata": {},
   "outputs": [
    {
     "name": "stdout",
     "output_type": "stream",
     "text": [
      "                                                     joy   surprise  \\\n",
      "title                                                                 \n",
      "A Good Person                                  94.790033   4.085268   \n",
      "A League of Their Own                          82.557196   0.000000   \n",
      "A Quiet Place                                  96.582623   0.000000   \n",
      "Ali: Fear Eats the Soul                         0.000000   0.000000   \n",
      "Analyze That                                    0.000000   0.000000   \n",
      "...                                                  ...        ...   \n",
      "Vision: From the Life of Hildegard von Bingen  98.170783   1.149297   \n",
      "Wall Street: Money Never Sleeps                42.268364  12.825757   \n",
      "We Can Be Heroes                               19.552520   0.000000   \n",
      "When a Stranger Calls                           0.000000   0.000000   \n",
      "Yocho 'Foreboding'                              0.000000  14.250077   \n",
      "\n",
      "                                                   anger    disgust  \\\n",
      "title                                                                 \n",
      "A Good Person                                   0.429002   0.000000   \n",
      "A League of Their Own                           3.835747   6.443912   \n",
      "A Quiet Place                                   0.000000   0.845669   \n",
      "Ali: Fear Eats the Soul                         0.000000  13.892091   \n",
      "Analyze That                                   22.611348  30.320688   \n",
      "...                                                  ...        ...   \n",
      "Vision: From the Life of Hildegard von Bingen   0.000000   0.000000   \n",
      "Wall Street: Money Never Sleeps                 0.000000   0.000000   \n",
      "We Can Be Heroes                                0.000000  40.437151   \n",
      "When a Stranger Calls                           5.862147  90.632256   \n",
      "Yocho 'Foreboding'                              0.000000  41.718922   \n",
      "\n",
      "                                                    fear    sadness  \n",
      "title                                                                \n",
      "A Good Person                                   0.000000   0.000000  \n",
      "A League of Their Own                           0.000000   0.000000  \n",
      "A Quiet Place                                   0.926292   0.000000  \n",
      "Ali: Fear Eats the Soul                        62.398322   9.506948  \n",
      "Analyze That                                    0.000000  27.937277  \n",
      "...                                                  ...        ...  \n",
      "Vision: From the Life of Hildegard von Bingen   0.000000   0.261110  \n",
      "Wall Street: Money Never Sleeps                13.978443   0.000000  \n",
      "We Can Be Heroes                                0.000000  16.264926  \n",
      "When a Stranger Calls                           0.000000   1.816395  \n",
      "Yocho 'Foreboding'                             17.178574   0.000000  \n",
      "\n",
      "[100 rows x 6 columns]\n",
      "The movie \"Example Movie Title\" was not found.\n"
     ]
    }
   ],
   "source": [
    "# Function to aggregate emotion percentages\n",
    "def aggregate_moods(moods_list):\n",
    "    mood_dict = {}\n",
    "    for moods in moods_list:\n",
    "        for mood, percentage in moods:\n",
    "            if mood in mood_dict:\n",
    "                mood_dict[mood] += percentage\n",
    "            else:\n",
    "                mood_dict[mood] = percentage\n",
    "    return mood_dict\n",
    "\n",
    "# Group reviews by movie and aggregate predicted emotions\n",
    "movie_emotion_profile = sample_reviews.groupby('title')['predicted_moods'].apply(list).apply(aggregate_moods).apply(pd.Series).fillna(0)\n",
    "\n",
    "# Display emotional profiles of the first movies\n",
    "print(movie_emotion_profile)\n",
    "\n",
    "# Plot the emotional profile of a specific movie (example)\n",
    "movie_title = 'Example Movie Title'\n",
    "if movie_title in movie_emotion_profile.index:\n",
    "    movie_emotion_profile.loc[movie_title].plot(kind='bar', color='skyblue')\n",
    "    plt.xlabel('Emotion')\n",
    "    plt.ylabel('Proportion')\n",
    "    plt.title(f'Emotional Profile of {movie_title}')\n",
    "    plt.show()\n",
    "else:\n",
    "    print(f'The movie \"{movie_title}\" was not found.')"
   ]
  },
  {
   "cell_type": "code",
   "execution_count": null,
   "id": "e723e90b",
   "metadata": {},
   "outputs": [],
   "source": []
  }
 ],
 "metadata": {
  "kernelspec": {
   "display_name": "Python 3 (ipykernel)",
   "language": "python",
   "name": "python3"
  },
  "language_info": {
   "codemirror_mode": {
    "name": "ipython",
    "version": 3
   },
   "file_extension": ".py",
   "mimetype": "text/x-python",
   "name": "python",
   "nbconvert_exporter": "python",
   "pygments_lexer": "ipython3",
   "version": "3.11.5"
  }
 },
 "nbformat": 4,
 "nbformat_minor": 5
}
