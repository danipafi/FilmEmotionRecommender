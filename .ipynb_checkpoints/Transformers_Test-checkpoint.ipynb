{
 "cells": [
  {
   "cell_type": "code",
   "execution_count": 2,
   "id": "59da0122",
   "metadata": {},
   "outputs": [
    {
     "name": "stdout",
     "output_type": "stream",
     "text": [
      "[{'label': 'admiration', 'score': 0.6474486589431763}, {'label': 'approval', 'score': 0.2885638177394867}, {'label': 'neutral', 'score': 0.13793179392814636}, {'label': 'excitement', 'score': 0.025758495554327965}, {'label': 'curiosity', 'score': 0.01578565686941147}, {'label': 'realization', 'score': 0.011525536887347698}, {'label': 'joy', 'score': 0.010176865383982658}, {'label': 'optimism', 'score': 0.006342628970742226}, {'label': 'confusion', 'score': 0.00576135003939271}, {'label': 'love', 'score': 0.005094077903777361}, {'label': 'annoyance', 'score': 0.0029782832134515047}, {'label': 'disapproval', 'score': 0.002750047016888857}, {'label': 'amusement', 'score': 0.002474383218213916}, {'label': 'surprise', 'score': 0.002458893461152911}, {'label': 'pride', 'score': 0.0017814907478168607}, {'label': 'disappointment', 'score': 0.0016310859937220812}, {'label': 'desire', 'score': 0.0013454349245876074}, {'label': 'gratitude', 'score': 0.0010808767983689904}, {'label': 'caring', 'score': 0.00107773975469172}, {'label': 'relief', 'score': 0.0010065775131806731}, {'label': 'disgust', 'score': 0.0006345519796013832}, {'label': 'anger', 'score': 0.0005931620835326612}, {'label': 'sadness', 'score': 0.0004132259055040777}, {'label': 'fear', 'score': 0.00036772762541659176}, {'label': 'nervousness', 'score': 0.00023839528148528188}, {'label': 'embarrassment', 'score': 0.00020207067427691072}, {'label': 'grief', 'score': 0.00016337214037775993}, {'label': 'remorse', 'score': 0.00013708535698242486}]\n"
     ]
    }
   ],
   "source": [
    "from transformers import pipeline\n",
    "\n",
    "classifier = pipeline(task=\"text-classification\", model=\"SamLowe/roberta-base-go_emotions\", top_k=None)\n",
    "\n",
    "sentences = [\"Maggie Gyllenhaal and Parker Sevaks interactions come across seamlessly here Its fascinating to watch them together regardless of how questionable the situations become\"]\n",
    "\n",
    "model_outputs = classifier(sentences)\n",
    "print(model_outputs[0])\n",
    "# Produces a list of dicts for each of the labels"
   ]
  },
  {
   "cell_type": "code",
   "execution_count": null,
   "id": "3cc6fe98",
   "metadata": {},
   "outputs": [],
   "source": []
  }
 ],
 "metadata": {
  "kernelspec": {
   "display_name": "Python 3 (ipykernel)",
   "language": "python",
   "name": "python3"
  },
  "language_info": {
   "codemirror_mode": {
    "name": "ipython",
    "version": 3
   },
   "file_extension": ".py",
   "mimetype": "text/x-python",
   "name": "python",
   "nbconvert_exporter": "python",
   "pygments_lexer": "ipython3",
   "version": "3.11.5"
  }
 },
 "nbformat": 4,
 "nbformat_minor": 5
}
