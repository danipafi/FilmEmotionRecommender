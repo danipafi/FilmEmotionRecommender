{
 "cells": [
  {
   "cell_type": "code",
   "execution_count": 2,
   "id": "eed4824a",
   "metadata": {},
   "outputs": [
    {
     "name": "stderr",
     "output_type": "stream",
     "text": [
      "2025-02-28 17:30:52.574 \n",
      "  \u001b[33m\u001b[1mWarning:\u001b[0m to view this Streamlit app on a browser, run it with the following\n",
      "  command:\n",
      "\n",
      "    streamlit run /Users/danielebelmiro/anaconda3/lib/python3.11/site-packages/ipykernel_launcher.py [ARGUMENTS]\n",
      "2025-02-28 17:30:52.574 Session state does not function when running a script without `streamlit run`\n"
     ]
    }
   ],
   "source": [
    "import streamlit as st\n",
    "\n",
    "# Título da aplicação\n",
    "st.title(\"Minha Primeira Aplicação com Streamlit\")\n",
    "\n",
    "# Texto simples\n",
    "st.write(\"Olá, mundo! Esta é minha primeira aplicação Streamlit.\")\n",
    "\n",
    "# Slider para entrada de dados\n",
    "numero = st.slider(\"Escolha um número\", 0, 100)\n",
    "\n",
    "# Exibir o número escolhido\n",
    "st.write(f\"Você escolheu o número: {numero}\")"
   ]
  },
  {
   "cell_type": "code",
   "execution_count": null,
   "id": "e4db2636",
   "metadata": {},
   "outputs": [],
   "source": []
  }
 ],
 "metadata": {
  "kernelspec": {
   "display_name": "Python 3 (ipykernel)",
   "language": "python",
   "name": "python3"
  },
  "language_info": {
   "codemirror_mode": {
    "name": "ipython",
    "version": 3
   },
   "file_extension": ".py",
   "mimetype": "text/x-python",
   "name": "python",
   "nbconvert_exporter": "python",
   "pygments_lexer": "ipython3",
   "version": "3.11.5"
  }
 },
 "nbformat": 4,
 "nbformat_minor": 5
}
